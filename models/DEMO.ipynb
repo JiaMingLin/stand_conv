{
 "cells": [
  {
   "cell_type": "code",
   "execution_count": 1,
   "metadata": {},
   "outputs": [
    {
     "data": {
      "application/javascript": [
       "\n",
       "require(['notebook/js/codecell'], function(codecell) {\n",
       "  codecell.CodeCell.options_default.highlight_modes[\n",
       "      'magic_text/x-csrc'] = {'reg':[/^%%microblaze/]};\n",
       "  Jupyter.notebook.events.one('kernel_ready.Kernel', function(){\n",
       "      Jupyter.notebook.get_cells().map(function(cell){\n",
       "          if (cell.cell_type == 'code'){ cell.auto_highlight(); } }) ;\n",
       "  });\n",
       "});\n"
      ]
     },
     "metadata": {},
     "output_type": "display_data"
    }
   ],
   "source": [
    "import cv2\n",
    "from PIL import Image\n",
    "import numpy as np\n",
    "import matplotlib.pyplot as plt\n",
    "\n",
    "from simple_net_lx5 import *"
   ]
  },
  {
   "cell_type": "code",
   "execution_count": 2,
   "metadata": {},
   "outputs": [
    {
     "data": {
      "image/png": "[encoded data removed]",
      "text/plain": [
       "<matplotlib.figure.Figure at 0x7f5b8aca20>"
      ]
     },
     "metadata": {},
     "output_type": "display_data"
    }
   ],
   "source": [
    "#from torchvision.utils import save_image\n",
    "import cv2\n",
    "I = Image.open('ship.png')\n",
    "I = I.convert(\"RGB\")\n",
    "I_array = np.array(I)\n",
    "\n",
    "def imshow(img):\n",
    "    #img = img / 2 + 0.5     # unnormalize\n",
    "    #npimg = img.numpy()\n",
    "    plt.imshow(img)\n",
    "    plt.show()\n",
    "    #return npimg\n",
    "imshow(I_array)"
   ]
  },
  {
   "cell_type": "code",
   "execution_count": 3,
   "metadata": {},
   "outputs": [],
   "source": [
    "def numpy_quantize_tensor_scale_zeropoint(x, num_bits=8, scale=None, zeropoint=None):\n",
    "    \n",
    "    qmin = 0.\n",
    "    qmax = 2.**num_bits - 1.\n",
    "    #scale, zero_point = calcScaleZeroPoint(min_val, max_val, num_bits)\n",
    "    q_x = zeropoint + x / scale\n",
    "    q_x = np.round(np.clip(q_x,qmin,qmax))\n",
    "    \n",
    "    #q_x.clamp_(qmin, qmax).round_()\n",
    "    #q_x = q_x.round().byte()\n",
    "    return np.array(q_x).astype(np.uint8)\n",
    "\n",
    "def normalization(img):\n",
    "    img_nor = img/255.\n",
    "    mean = [0.5, 0.5, 0.5]\n",
    "    std = [0.5, 0.5, 0.5]\n",
    "    mean = np.array(mean).reshape(1,1,3)\n",
    "    std = np.array(std).reshape(1,1,3)\n",
    "    return (img_nor-mean)/std\n"
   ]
  },
  {
   "cell_type": "code",
   "execution_count": 4,
   "metadata": {},
   "outputs": [],
   "source": [
    "I_array_np = normalization(I_array)\n",
    "input_conv1 = numpy_quantize_tensor_scale_zeropoint(I_array_np,8,0.11948869665231317,7)"
   ]
  },
  {
   "cell_type": "code",
   "execution_count": 5,
   "metadata": {},
   "outputs": [
    {
     "name": "stdout",
     "output_type": "stream",
     "text": [
      "Initialize configuration...\n",
      "Initialize configuration...: done\n",
      "Initialize Hardware...: load bitstream\n",
      "Initialize Hardware...: done\n",
      "memory allocation...\n",
      "memory allocation...: done\n",
      "memory allocation...\n",
      "memory allocation...: done\n",
      "memory allocation...\n",
      "memory allocation...: done\n",
      "memory allocation...\n",
      "memory allocation...: done\n",
      "memory allocation...\n",
      "memory allocation...: done\n",
      "shape of wgt:  (32, 16, 3, 3)\n",
      "shape of wgt:  (64, 32, 3, 3)\n",
      "shape of wgt:  (64, 64, 3, 3)\n",
      "shape of wgt:  (64, 64, 3, 3)\n",
      "shape of wgt:  (64, 64, 3, 3)\n"
     ]
    }
   ],
   "source": [
    "model = simple_net()"
   ]
  },
  {
   "cell_type": "code",
   "execution_count": 6,
   "metadata": {},
   "outputs": [
    {
     "name": "stdout",
     "output_type": "stream",
     "text": [
      "executing layers...\n",
      "executing conv2dPool\n",
      "layer 0, IFM size = (32, 32, 3), WGT size = (32, 3, 3, 3), OFM size = (16, 16, 32), time = 2.232200000435114(ms)\n",
      "executing conv2dPool\n",
      "layer 1, IFM size = (16, 16, 32), WGT size = (64, 32, 3, 3), OFM size = (8, 8, 64), time = 1.6524898819625378(ms)\n",
      "executing conv2dPool\n",
      "layer 2, IFM size = (8, 8, 64), WGT size = (64, 64, 3, 3), OFM size = (4, 4, 64), time = 0.915084034204483(ms)\n",
      "executing conv2dPool\n",
      "layer 3, IFM size = (4, 4, 64), WGT size = (64, 64, 3, 3), OFM size = (2, 2, 64), time = 0.8025320712476969(ms)\n",
      "executing conv2dPool\n",
      "layer 4, IFM size = (2, 2, 64), WGT size = (64, 64, 3, 3), OFM size = (1, 1, 64), time = 0.7897010073065758(ms)\n",
      "executing Flatten\n",
      "layer 5, IFM size = (1, 1, 64), WGT size = (1, 1, 64), OFM size = (1, 1, 64), time = 0.21645193919539452(ms)\n",
      "executing Fully Connected Layer\n"
     ]
    },
    {
     "ename": "IndexError",
     "evalue": "too many indices for array",
     "output_type": "error",
     "traceback": [
      "\u001b[0;31m---------------------------------------------------------------------------\u001b[0m",
      "\u001b[0;31mIndexError\u001b[0m                                Traceback (most recent call last)",
      "\u001b[0;32m<ipython-input-6-82260d1ed9a3>\u001b[0m in \u001b[0;36m<module>\u001b[0;34m()\u001b[0m\n\u001b[0;32m----> 1\u001b[0;31m \u001b[0moutput\u001b[0m \u001b[0;34m=\u001b[0m \u001b[0mmodel\u001b[0m\u001b[0;34m(\u001b[0m\u001b[0minput_conv1\u001b[0m\u001b[0;34m)\u001b[0m\u001b[0;34m\u001b[0m\u001b[0m\n\u001b[0m",
      "\u001b[0;32m/home/xilinx/jupyter_notebooks/JiaMing/test_inference/fpga_nn.py\u001b[0m in \u001b[0;36m__call__\u001b[0;34m(self, raw_image)\u001b[0m\n\u001b[1;32m     95\u001b[0m                 \u001b[0;32mfor\u001b[0m \u001b[0ml\u001b[0m \u001b[0;32min\u001b[0m \u001b[0mself\u001b[0m\u001b[0;34m.\u001b[0m\u001b[0mlayers\u001b[0m\u001b[0;34m[\u001b[0m\u001b[0;36m1\u001b[0m\u001b[0;34m:\u001b[0m\u001b[0;34m]\u001b[0m\u001b[0;34m:\u001b[0m\u001b[0;34m\u001b[0m\u001b[0m\n\u001b[1;32m     96\u001b[0m                         \u001b[0mhw_begin\u001b[0m \u001b[0;34m=\u001b[0m \u001b[0mtime\u001b[0m\u001b[0;34m.\u001b[0m\u001b[0mperf_counter\u001b[0m\u001b[0;34m(\u001b[0m\u001b[0;34m)\u001b[0m\u001b[0;34m\u001b[0m\u001b[0m\n\u001b[0;32m---> 97\u001b[0;31m                         \u001b[0mfm\u001b[0m \u001b[0;34m=\u001b[0m \u001b[0ml\u001b[0m\u001b[0;34m(\u001b[0m\u001b[0mfm\u001b[0m\u001b[0;34m)\u001b[0m\u001b[0;34m\u001b[0m\u001b[0m\n\u001b[0m\u001b[1;32m     98\u001b[0m \t\t\tprint(\"layer {}, IFM size = {}, WGT size = {}, OFM size = {}, time = {}(ms)\"\\\n\u001b[1;32m     99\u001b[0m \t\t\t.format(cnt, \\\n",
      "\u001b[0;32m/home/xilinx/jupyter_notebooks/JiaMing/test_inference/fpga_nn.py\u001b[0m in \u001b[0;36m__call__\u001b[0;34m(self, feature)\u001b[0m\n\u001b[1;32m    381\u001b[0m                 \u001b[0;32mif\u001b[0m \u001b[0mself\u001b[0m\u001b[0;34m.\u001b[0m\u001b[0mquantize\u001b[0m\u001b[0;34m:\u001b[0m\u001b[0;34m\u001b[0m\u001b[0m\n\u001b[1;32m    382\u001b[0m \t\t\treturn co.sw_linear_quant(feature, self.weight_data, \\\n\u001b[0;32m--> 383\u001b[0;31m \t\t\t\tself.multiplier, self.zp_x, self.zp_w, self.zp_x_next)\n\u001b[0m\u001b[1;32m    384\u001b[0m                 \u001b[0;32melse\u001b[0m\u001b[0;34m:\u001b[0m\u001b[0;34m\u001b[0m\u001b[0m\n\u001b[1;32m    385\u001b[0m                         \u001b[0;31m# dequantize\u001b[0m\u001b[0;34m\u001b[0m\u001b[0;34m\u001b[0m\u001b[0m\n",
      "\u001b[0;32m/home/xilinx/jupyter_notebooks/JiaMing/test_inference/conv_operation.py\u001b[0m in \u001b[0;36msw_linear_quant\u001b[0;34m(ifm, wgt, multiplier, zp_x, zp_w, zp_x_next)\u001b[0m\n\u001b[1;32m    139\u001b[0m \u001b[0;34m\u001b[0m\u001b[0m\n\u001b[1;32m    140\u001b[0m \u001b[0;32mdef\u001b[0m \u001b[0msw_linear_quant\u001b[0m\u001b[0;34m(\u001b[0m\u001b[0mifm\u001b[0m\u001b[0;34m,\u001b[0m \u001b[0mwgt\u001b[0m\u001b[0;34m,\u001b[0m \u001b[0mmultiplier\u001b[0m\u001b[0;34m,\u001b[0m \u001b[0mzp_x\u001b[0m\u001b[0;34m,\u001b[0m \u001b[0mzp_w\u001b[0m\u001b[0;34m,\u001b[0m \u001b[0mzp_x_next\u001b[0m\u001b[0;34m)\u001b[0m\u001b[0;34m:\u001b[0m\u001b[0;34m\u001b[0m\u001b[0m\n\u001b[0;32m--> 141\u001b[0;31m     \u001b[0moutput\u001b[0m \u001b[0;34m=\u001b[0m \u001b[0mmultiplier\u001b[0m\u001b[0;34m*\u001b[0m\u001b[0mnp\u001b[0m\u001b[0;34m.\u001b[0m\u001b[0mdot\u001b[0m\u001b[0;34m(\u001b[0m\u001b[0;34m(\u001b[0m\u001b[0mifm\u001b[0m\u001b[0;34m-\u001b[0m\u001b[0mzp_x\u001b[0m\u001b[0;34m)\u001b[0m\u001b[0;34m,\u001b[0m\u001b[0mnp\u001b[0m\u001b[0;34m.\u001b[0m\u001b[0mtranspose\u001b[0m\u001b[0;34m(\u001b[0m\u001b[0;34m(\u001b[0m\u001b[0mwgt\u001b[0m\u001b[0;34m[\u001b[0m\u001b[0;34m:\u001b[0m\u001b[0;34m,\u001b[0m\u001b[0;34m:\u001b[0m\u001b[0;34m,\u001b[0m\u001b[0;36m0\u001b[0m\u001b[0;34m,\u001b[0m\u001b[0;36m0\u001b[0m\u001b[0;34m]\u001b[0m\u001b[0;34m-\u001b[0m\u001b[0mzp_w\u001b[0m\u001b[0;34m)\u001b[0m\u001b[0;34m,\u001b[0m \u001b[0;34m(\u001b[0m\u001b[0;36m1\u001b[0m\u001b[0;34m,\u001b[0m\u001b[0;36m0\u001b[0m\u001b[0;34m)\u001b[0m\u001b[0;34m)\u001b[0m \u001b[0;34m)\u001b[0m\u001b[0;34m+\u001b[0m\u001b[0mznx\u001b[0m\u001b[0;34m\u001b[0m\u001b[0m\n\u001b[0m\u001b[1;32m    142\u001b[0m     \u001b[0moutput\u001b[0m \u001b[0;34m=\u001b[0m \u001b[0mnp\u001b[0m\u001b[0;34m.\u001b[0m\u001b[0mround\u001b[0m\u001b[0;34m(\u001b[0m\u001b[0mnp\u001b[0m\u001b[0;34m.\u001b[0m\u001b[0mclip\u001b[0m\u001b[0;34m(\u001b[0m\u001b[0moutput\u001b[0m\u001b[0;34m,\u001b[0m\u001b[0;36m0\u001b[0m\u001b[0;34m,\u001b[0m\u001b[0;36m255\u001b[0m\u001b[0;34m)\u001b[0m\u001b[0;34m)\u001b[0m\u001b[0;34m\u001b[0m\u001b[0m\n\u001b[1;32m    143\u001b[0m     \u001b[0;32mreturn\u001b[0m \u001b[0moutput\u001b[0m\u001b[0;34m\u001b[0m\u001b[0m\n",
      "\u001b[0;31mIndexError\u001b[0m: too many indices for array"
     ]
    }
   ],
   "source": [
    "output = model(input_conv1)"
   ]
  },
  {
   "cell_type": "code",
   "execution_count": null,
   "metadata": {},
   "outputs": [],
   "source": []
  }
 ],
 "metadata": {
  "kernelspec": {
   "display_name": "Python 3",
   "language": "python",
   "name": "python3"
  },
  "language_info": {
   "codemirror_mode": {
    "name": "ipython",
    "version": 3
   },
   "file_extension": ".py",
   "mimetype": "text/x-python",
   "name": "python",
   "nbconvert_exporter": "python",
   "pygments_lexer": "ipython3",
   "version": "3.6.5"
  }
 },
 "nbformat": 4,
 "nbformat_minor": 2
}
