{
 "cells": [
  {
   "cell_type": "code",
   "execution_count": 1,
   "metadata": {},
   "outputs": [
    {
     "data": {
      "application/javascript": [
       "\n",
       "require(['notebook/js/codecell'], function(codecell) {\n",
       "  codecell.CodeCell.options_default.highlight_modes[\n",
       "      'magic_text/x-csrc'] = {'reg':[/^%%microblaze/]};\n",
       "  Jupyter.notebook.events.one('kernel_ready.Kernel', function(){\n",
       "      Jupyter.notebook.get_cells().map(function(cell){\n",
       "          if (cell.cell_type == 'code'){ cell.auto_highlight(); } }) ;\n",
       "  });\n",
       "});\n"
      ]
     },
     "metadata": {},
     "output_type": "display_data"
    }
   ],
   "source": [
    "import sys\n",
    "old_stdout = sys.stdout\n",
    "from two_stream import Two_stream\n",
    "\n",
    "import cv2\n",
    "import numpy as np\n",
    "import configparser\n"
   ]
  },
  {
   "cell_type": "code",
   "execution_count": 2,
   "metadata": {},
   "outputs": [
    {
     "name": "stdout",
     "output_type": "stream",
     "text": [
      "\t[Info] finish one iter test\n"
     ]
    }
   ],
   "source": [
    "f = open('/dev/null', 'w')\n",
    "sys.stdout = f\n",
    "\n",
    "two_stream = Two_stream('./files/config.config')\n",
    "\n",
    "config = configparser.ConfigParser()\n",
    "config.read('./files/config.config')\n",
    "\n",
    "size = (ch,h,w) = (config['OpticalFlow']['channel'],\n",
    "                   int(config['DataConfig']['image_height']),int(config['DataConfig']['image_width'])) #(20,256,256)\n",
    "\n",
    "## read images\n",
    "img1 = cv2.imread(\"LK_optical_flow/files/img_00000.jpg\")\n",
    "img1 = cv2.cvtColor(img1, cv2.COLOR_BGR2RGB)\n",
    "img1 = cv2.resize(img1,(w,h)).astype(np.uint8)\n",
    "\n",
    "img2 = cv2.imread(\"LK_optical_flow/files/img_00001.jpg\")\n",
    "img2 = cv2.cvtColor(img2, cv2.COLOR_BGR2RGB)\n",
    "img2 = cv2.resize(img2,(w,h)).astype(np.uint8)\n",
    "\n",
    "two_stream(img1, img2)\n",
    "\n",
    "sys.stdout = old_stdout\n",
    "print(\"\\t[Info] finish one iter test\")"
   ]
  },
  {
   "cell_type": "code",
   "execution_count": null,
   "metadata": {},
   "outputs": [],
   "source": []
  },
  {
   "cell_type": "code",
   "execution_count": null,
   "metadata": {},
   "outputs": [],
   "source": []
  },
  {
   "cell_type": "code",
   "execution_count": null,
   "metadata": {},
   "outputs": [],
   "source": []
  },
  {
   "cell_type": "code",
   "execution_count": null,
   "metadata": {},
   "outputs": [],
   "source": []
  },
  {
   "cell_type": "markdown",
   "metadata": {},
   "source": [
    "# Demo Video"
   ]
  },
  {
   "cell_type": "code",
   "execution_count": null,
   "metadata": {},
   "outputs": [],
   "source": [
    "from LK_optical_flow.utils import showarray\n",
    "from two_stream import Two_stream\n",
    "\n",
    "import os, sys, cv2, time\n",
    "old_stdout = sys.stdout\n",
    "\n",
    "import configparser\n",
    "import numpy as np\n",
    "\n",
    "from contextlib import contextmanager\n",
    "\n",
    "@contextmanager\n",
    "def silence_stdout():\n",
    "    old_target = sys.stdout\n",
    "    try:\n",
    "        with open(os.devnull, \"w\") as new_target:\n",
    "            sys.stdout = new_target\n",
    "            yield new_target\n",
    "    finally:\n",
    "        sys.stdout = old_target\n",
    "        "
   ]
  },
  {
   "cell_type": "code",
   "execution_count": null,
   "metadata": {},
   "outputs": [
    {
     "data": {
      "image/jpeg": "[encoded data removed]",
      "text/plain": [
       "<IPython.core.display.Image object>"
      ]
     },
     "metadata": {},
     "output_type": "display_data"
    }
   ],
   "source": [
    "config = configparser.ConfigParser()\n",
    "config.read('./files/config.config')\n",
    "\n",
    "size = (ch,h,w) = (config['OpticalFlow']['channel'],\n",
    "                   int(config['DataConfig']['image_height']),int(config['DataConfig']['image_width'])) #(20,256,256)\n",
    "\n",
    "fps_list = []\n",
    "start,end,sec = 0,0,1e-4\n",
    "\n",
    "# put demo video\n",
    "cap = cv2.VideoCapture('LK_optical_flow/files/Big.Buck.Bunny.mp4')\n",
    "\n",
    "prev_frame = np.zeros((h,w,3)).astype(np.uint8)\n",
    "while(True):\n",
    "    start = time.time()\n",
    "    \n",
    "    ret,frame = cap.read()\n",
    "    if ret:\n",
    "        curr_frame = cv2.resize(frame, (h, w))\n",
    "        \n",
    "        with silence_stdout():\n",
    "            output = two_stream(curr_frame, prev_frame)\n",
    "        print(output)\n",
    "        \n",
    "        \n",
    "        prev_frame = curr_frame\n",
    "        \n",
    "        ####################\n",
    "        showarray(curr_frame, 1/sec, show_meta=False)\n",
    "    else:\n",
    "        break\n",
    "\n",
    "    end = time.time()\n",
    "    sec = end-start\n",
    "    fps_list.append(1/sec)\n",
    "\n",
    "print(f\"avg fps:{sum(fps_list)/len(fps_list)}\")"
   ]
  },
  {
   "cell_type": "code",
   "execution_count": null,
   "metadata": {},
   "outputs": [],
   "source": []
  },
  {
   "cell_type": "code",
   "execution_count": null,
   "metadata": {},
   "outputs": [],
   "source": []
  },
  {
   "cell_type": "code",
   "execution_count": null,
   "metadata": {},
   "outputs": [],
   "source": []
  },
  {
   "cell_type": "code",
   "execution_count": null,
   "metadata": {},
   "outputs": [],
   "source": []
  },
  {
   "cell_type": "code",
   "execution_count": null,
   "metadata": {},
   "outputs": [],
   "source": []
  },
  {
   "cell_type": "code",
   "execution_count": null,
   "metadata": {},
   "outputs": [],
   "source": []
  },
  {
   "cell_type": "code",
   "execution_count": null,
   "metadata": {},
   "outputs": [],
   "source": []
  },
  {
   "cell_type": "code",
   "execution_count": null,
   "metadata": {},
   "outputs": [],
   "source": []
  }
 ],
 "metadata": {
  "kernelspec": {
   "display_name": "Python 3",
   "language": "python",
   "name": "python3"
  },
  "language_info": {
   "codemirror_mode": {
    "name": "ipython",
    "version": 3
   },
   "file_extension": ".py",
   "mimetype": "text/x-python",
   "name": "python",
   "nbconvert_exporter": "python",
   "pygments_lexer": "ipython3",
   "version": "3.6.5"
  }
 },
 "nbformat": 4,
 "nbformat_minor": 2
}
