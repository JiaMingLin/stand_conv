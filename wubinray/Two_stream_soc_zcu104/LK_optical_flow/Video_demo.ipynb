{
 "cells": [
  {
   "cell_type": "code",
   "execution_count": 1,
   "metadata": {},
   "outputs": [
    {
     "data": {
      "application/javascript": [
       "\n",
       "require(['notebook/js/codecell'], function(codecell) {\n",
       "  codecell.CodeCell.options_default.highlight_modes[\n",
       "      'magic_text/x-csrc'] = {'reg':[/^%%microblaze/]};\n",
       "  Jupyter.notebook.events.one('kernel_ready.Kernel', function(){\n",
       "      Jupyter.notebook.get_cells().map(function(cell){\n",
       "          if (cell.cell_type == 'code'){ cell.auto_highlight(); } }) ;\n",
       "  });\n",
       "});\n"
      ]
     },
     "metadata": {},
     "output_type": "display_data"
    }
   ],
   "source": [
    "import cv2\n",
    "import configparser\n",
    "import numpy as np\n",
    "\n",
    "import time\n",
    "\n",
    "from utils import showarray, Feature_bank\n",
    "from accelerator import LK_accelerator"
   ]
  },
  {
   "cell_type": "code",
   "execution_count": 2,
   "metadata": {},
   "outputs": [
    {
     "data": {
      "image/jpeg": "[encoded data removed]",
      "text/plain": [
       "<IPython.core.display.Image object>"
      ]
     },
     "metadata": {},
     "output_type": "display_data"
    },
    {
     "name": "stdout",
     "output_type": "stream",
     "text": [
      "avg fps:26.556541296707888\n"
     ]
    }
   ],
   "source": [
    "size = (ch,h,w) = (20,256,256)\n",
    "\n",
    "config = configparser.ConfigParser()\n",
    "config.read('./files/config.config')\n",
    "\n",
    "# LK acc, memory bank\n",
    "lk_acc = LK_accelerator(config)\n",
    "f_bank = Feature_bank(config)\n",
    "\n",
    "fps_list = []\n",
    "start,end,sec = 0,0,1e-4\n",
    "\n",
    "# put demo video\n",
    "cap = cv2.VideoCapture('files/Big.Buck.Bunny.mp4')\n",
    "\n",
    "prev_frame = np.zeros((h,w))\n",
    "while(True):\n",
    "    start = time.time()\n",
    "    \n",
    "    ret,frame = cap.read()\n",
    "    if ret:\n",
    "        frame = cv2.resize(frame, (h, w))\n",
    "        curr_frame = cv2.cvtColor(frame, cv2.COLOR_BGR2GRAY)\n",
    "        \n",
    "        vx,vy = lk_acc.compute(prev_frame, curr_frame)\n",
    "        \n",
    "        f_bank.push(vx,vy)\n",
    "        \n",
    "        feature_arr = f_bank.get_np_arr() #這邊吐出來是 np array(256,256,20)\n",
    "        \n",
    "        # TODO:\n",
    "        # vgg16\n",
    "        \n",
    "        \n",
    "        \n",
    "        prev_frame = curr_frame\n",
    "        \n",
    "        ####################\n",
    "        ##### just show ####\n",
    "        vx = np.expand_dims(vx, axis=2)\n",
    "        vy = np.expand_dims(vy, axis=2)\n",
    "        #vv = np.sqrt((vx**2+vy**2))\n",
    "        vv = np.zeros((h,w,1))\n",
    "        v = np.concatenate((vv,vx,vy),axis=2).astype(np.uint8)\n",
    "        showarray(np.concatenate((frame,v),axis=1), 1/sec)\n",
    "        ####################\n",
    "        #showarray(frame, 1/sec)\n",
    "    else:\n",
    "        break\n",
    "\n",
    "    end = time.time()\n",
    "    sec = end-start\n",
    "    fps_list.append(1/sec)\n",
    "\n",
    "print(f\"avg fps:{sum(fps_list)/len(fps_list)}\")"
   ]
  },
  {
   "cell_type": "code",
   "execution_count": null,
   "metadata": {},
   "outputs": [],
   "source": []
  },
  {
   "cell_type": "code",
   "execution_count": null,
   "metadata": {},
   "outputs": [],
   "source": []
  },
  {
   "cell_type": "markdown",
   "metadata": {},
   "source": [
    "## Trashes"
   ]
  },
  {
   "cell_type": "code",
   "execution_count": 3,
   "metadata": {},
   "outputs": [
    {
     "ename": "TypeError",
     "evalue": "__init__() got an unexpected keyword argument 'mode'",
     "output_type": "error",
     "traceback": [
      "\u001b[0;31m---------------------------------------------------------------------------\u001b[0m",
      "\u001b[0;31mTypeError\u001b[0m                                 Traceback (most recent call last)",
      "\u001b[0;32m<ipython-input-3-db5a18ada8d8>\u001b[0m in \u001b[0;36m<module>\u001b[0;34m\u001b[0m\n\u001b[1;32m      5\u001b[0m \u001b[0;34m\u001b[0m\u001b[0m\n\u001b[1;32m      6\u001b[0m \u001b[0moverlay\u001b[0m \u001b[0;34m=\u001b[0m \u001b[0mOverlay\u001b[0m\u001b[0;34m(\u001b[0m\u001b[0;34m'./files/design_1.bit'\u001b[0m\u001b[0;34m)\u001b[0m\u001b[0;34m\u001b[0m\u001b[0m\n\u001b[0;32m----> 7\u001b[0;31m \u001b[0mLK_accelerator\u001b[0m\u001b[0;34m(\u001b[0m\u001b[0;36m32\u001b[0m\u001b[0;34m,\u001b[0m \u001b[0;36m32\u001b[0m\u001b[0;34m,\u001b[0m \u001b[0mmode\u001b[0m\u001b[0;34m=\u001b[0m\u001b[0;34m'unsigned'\u001b[0m\u001b[0;34m,\u001b[0m \u001b[0moverlay\u001b[0m\u001b[0;34m=\u001b[0m\u001b[0moverlay\u001b[0m\u001b[0;34m)\u001b[0m\u001b[0;34m\u001b[0m\u001b[0m\n\u001b[0m",
      "\u001b[0;31mTypeError\u001b[0m: __init__() got an unexpected keyword argument 'mode'"
     ]
    }
   ],
   "source": [
    "from pynq import Overlay\n",
    "from pynq import Xlnk\n",
    "xlnk = Xlnk()\n",
    "xlnk.xlnk_reset()\n",
    "\n",
    "overlay = Overlay('./files/design_1.bit')\n",
    "LK_accelerator(32, 32, mode='unsigned', overlay=overlay)"
   ]
  },
  {
   "cell_type": "code",
   "execution_count": null,
   "metadata": {},
   "outputs": [],
   "source": [
    "LK_accelerator.dma0"
   ]
  },
  {
   "cell_type": "code",
   "execution_count": null,
   "metadata": {},
   "outputs": [],
   "source": []
  },
  {
   "cell_type": "code",
   "execution_count": null,
   "metadata": {},
   "outputs": [],
   "source": []
  },
  {
   "cell_type": "code",
   "execution_count": null,
   "metadata": {},
   "outputs": [],
   "source": []
  },
  {
   "cell_type": "code",
   "execution_count": null,
   "metadata": {},
   "outputs": [],
   "source": []
  },
  {
   "cell_type": "code",
   "execution_count": null,
   "metadata": {},
   "outputs": [],
   "source": []
  }
 ],
 "metadata": {
  "kernelspec": {
   "display_name": "Python 3",
   "language": "python",
   "name": "python3"
  },
  "language_info": {
   "codemirror_mode": {
    "name": "ipython",
    "version": 3
   },
   "file_extension": ".py",
   "mimetype": "text/x-python",
   "name": "python",
   "nbconvert_exporter": "python",
   "pygments_lexer": "ipython3",
   "version": "3.6.5"
  }
 },
 "nbformat": 4,
 "nbformat_minor": 2
}
